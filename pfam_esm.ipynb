{
  "cells": [
    {
      "cell_type": "markdown",
      "metadata": {
        "id": "view-in-github",
        "colab_type": "text"
      },
      "source": [
        "<a href=\"https://colab.research.google.com/github/Moeinh77/blog_posts_codes/blob/main/pfam_esm.ipynb\" target=\"_parent\"><img src=\"https://colab.research.google.com/assets/colab-badge.svg\" alt=\"Open In Colab\"/></a>"
      ]
    },
    {
      "cell_type": "markdown",
      "metadata": {
        "id": "KWuQOSzGfayo"
      },
      "source": [
        "### install the required libraries"
      ]
    },
    {
      "cell_type": "code",
      "execution_count": null,
      "metadata": {
        "colab": {
          "base_uri": "https://localhost:8080/"
        },
        "id": "vfZ5cPySKq7u",
        "outputId": "a7b4fa3a-f041-4b37-b7ca-c86e9eecbefd"
      },
      "outputs": [
        {
          "name": "stdout",
          "output_type": "stream",
          "text": [
            "Looking in indexes: https://pypi.org/simple, https://us-python.pkg.dev/colab-wheels/public/simple/\n",
            "Requirement already satisfied: kaggle in /usr/local/lib/python3.8/dist-packages (1.5.12)\n",
            "Requirement already satisfied: requests in /usr/local/lib/python3.8/dist-packages (from kaggle) (2.23.0)\n",
            "Requirement already satisfied: python-slugify in /usr/local/lib/python3.8/dist-packages (from kaggle) (7.0.0)\n",
            "Requirement already satisfied: python-dateutil in /usr/local/lib/python3.8/dist-packages (from kaggle) (2.8.2)\n",
            "Requirement already satisfied: urllib3 in /usr/local/lib/python3.8/dist-packages (from kaggle) (1.24.3)\n",
            "Requirement already satisfied: certifi in /usr/local/lib/python3.8/dist-packages (from kaggle) (2022.9.24)\n",
            "Requirement already satisfied: tqdm in /usr/local/lib/python3.8/dist-packages (from kaggle) (4.64.1)\n",
            "Requirement already satisfied: six>=1.10 in /usr/local/lib/python3.8/dist-packages (from kaggle) (1.15.0)\n",
            "Requirement already satisfied: text-unidecode>=1.3 in /usr/local/lib/python3.8/dist-packages (from python-slugify->kaggle) (1.3)\n",
            "Requirement already satisfied: chardet<4,>=3.0.2 in /usr/local/lib/python3.8/dist-packages (from requests->kaggle) (3.0.4)\n",
            "Requirement already satisfied: idna<3,>=2.5 in /usr/local/lib/python3.8/dist-packages (from requests->kaggle) (2.10)\n",
            "Looking in indexes: https://pypi.org/simple, https://us-python.pkg.dev/colab-wheels/public/simple/\n",
            "Collecting evaluate\n",
            "  Downloading evaluate-0.3.0-py3-none-any.whl (72 kB)\n",
            "\u001b[K     |████████████████████████████████| 72 kB 290 kB/s \n",
            "\u001b[?25hRequirement already satisfied: tqdm>=4.62.1 in /usr/local/lib/python3.8/dist-packages (from evaluate) (4.64.1)\n",
            "Collecting xxhash\n",
            "  Downloading xxhash-3.1.0-cp38-cp38-manylinux_2_17_x86_64.manylinux2014_x86_64.whl (212 kB)\n",
            "\u001b[K     |████████████████████████████████| 212 kB 12.0 MB/s \n",
            "\u001b[?25hCollecting datasets>=2.0.0\n",
            "  Downloading datasets-2.7.1-py3-none-any.whl (451 kB)\n",
            "\u001b[K     |████████████████████████████████| 451 kB 66.7 MB/s \n",
            "\u001b[?25hRequirement already satisfied: numpy>=1.17 in /usr/local/lib/python3.8/dist-packages (from evaluate) (1.21.6)\n",
            "Collecting responses<0.19\n",
            "  Downloading responses-0.18.0-py3-none-any.whl (38 kB)\n",
            "Requirement already satisfied: fsspec[http]>=2021.05.0 in /usr/local/lib/python3.8/dist-packages (from evaluate) (2022.11.0)\n",
            "Collecting huggingface-hub>=0.7.0\n",
            "  Downloading huggingface_hub-0.11.1-py3-none-any.whl (182 kB)\n",
            "\u001b[K     |████████████████████████████████| 182 kB 33.9 MB/s \n",
            "\u001b[?25hCollecting multiprocess\n",
            "  Downloading multiprocess-0.70.14-py38-none-any.whl (132 kB)\n",
            "\u001b[K     |████████████████████████████████| 132 kB 48.6 MB/s \n",
            "\u001b[?25hRequirement already satisfied: packaging in /usr/local/lib/python3.8/dist-packages (from evaluate) (21.3)\n",
            "Requirement already satisfied: pandas in /usr/local/lib/python3.8/dist-packages (from evaluate) (1.3.5)\n",
            "Requirement already satisfied: dill in /usr/local/lib/python3.8/dist-packages (from evaluate) (0.3.6)\n",
            "Requirement already satisfied: requests>=2.19.0 in /usr/local/lib/python3.8/dist-packages (from evaluate) (2.23.0)\n",
            "Requirement already satisfied: pyarrow>=6.0.0 in /usr/local/lib/python3.8/dist-packages (from datasets>=2.0.0->evaluate) (9.0.0)\n",
            "Requirement already satisfied: pyyaml>=5.1 in /usr/local/lib/python3.8/dist-packages (from datasets>=2.0.0->evaluate) (6.0)\n",
            "Requirement already satisfied: aiohttp in /usr/local/lib/python3.8/dist-packages (from datasets>=2.0.0->evaluate) (3.8.3)\n",
            "Requirement already satisfied: yarl<2.0,>=1.0 in /usr/local/lib/python3.8/dist-packages (from aiohttp->datasets>=2.0.0->evaluate) (1.8.2)\n",
            "Requirement already satisfied: attrs>=17.3.0 in /usr/local/lib/python3.8/dist-packages (from aiohttp->datasets>=2.0.0->evaluate) (22.1.0)\n",
            "Requirement already satisfied: async-timeout<5.0,>=4.0.0a3 in /usr/local/lib/python3.8/dist-packages (from aiohttp->datasets>=2.0.0->evaluate) (4.0.2)\n",
            "Requirement already satisfied: frozenlist>=1.1.1 in /usr/local/lib/python3.8/dist-packages (from aiohttp->datasets>=2.0.0->evaluate) (1.3.3)\n",
            "Requirement already satisfied: charset-normalizer<3.0,>=2.0 in /usr/local/lib/python3.8/dist-packages (from aiohttp->datasets>=2.0.0->evaluate) (2.1.1)\n",
            "Requirement already satisfied: aiosignal>=1.1.2 in /usr/local/lib/python3.8/dist-packages (from aiohttp->datasets>=2.0.0->evaluate) (1.3.1)\n",
            "Requirement already satisfied: multidict<7.0,>=4.5 in /usr/local/lib/python3.8/dist-packages (from aiohttp->datasets>=2.0.0->evaluate) (6.0.3)\n",
            "Requirement already satisfied: filelock in /usr/local/lib/python3.8/dist-packages (from huggingface-hub>=0.7.0->evaluate) (3.8.0)\n",
            "Requirement already satisfied: typing-extensions>=3.7.4.3 in /usr/local/lib/python3.8/dist-packages (from huggingface-hub>=0.7.0->evaluate) (4.4.0)\n",
            "Requirement already satisfied: pyparsing!=3.0.5,>=2.0.2 in /usr/local/lib/python3.8/dist-packages (from packaging->evaluate) (3.0.9)\n",
            "Requirement already satisfied: urllib3!=1.25.0,!=1.25.1,<1.26,>=1.21.1 in /usr/local/lib/python3.8/dist-packages (from requests>=2.19.0->evaluate) (1.24.3)\n",
            "Requirement already satisfied: idna<3,>=2.5 in /usr/local/lib/python3.8/dist-packages (from requests>=2.19.0->evaluate) (2.10)\n",
            "Requirement already satisfied: certifi>=2017.4.17 in /usr/local/lib/python3.8/dist-packages (from requests>=2.19.0->evaluate) (2022.9.24)\n",
            "Requirement already satisfied: chardet<4,>=3.0.2 in /usr/local/lib/python3.8/dist-packages (from requests>=2.19.0->evaluate) (3.0.4)\n",
            "Collecting urllib3!=1.25.0,!=1.25.1,<1.26,>=1.21.1\n",
            "  Downloading urllib3-1.25.11-py2.py3-none-any.whl (127 kB)\n",
            "\u001b[K     |████████████████████████████████| 127 kB 20.7 MB/s \n",
            "\u001b[?25hRequirement already satisfied: pytz>=2017.3 in /usr/local/lib/python3.8/dist-packages (from pandas->evaluate) (2022.6)\n",
            "Requirement already satisfied: python-dateutil>=2.7.3 in /usr/local/lib/python3.8/dist-packages (from pandas->evaluate) (2.8.2)\n",
            "Requirement already satisfied: six>=1.5 in /usr/local/lib/python3.8/dist-packages (from python-dateutil>=2.7.3->pandas->evaluate) (1.15.0)\n",
            "Installing collected packages: urllib3, xxhash, responses, multiprocess, huggingface-hub, datasets, evaluate\n",
            "  Attempting uninstall: urllib3\n",
            "    Found existing installation: urllib3 1.24.3\n",
            "    Uninstalling urllib3-1.24.3:\n",
            "      Successfully uninstalled urllib3-1.24.3\n",
            "Successfully installed datasets-2.7.1 evaluate-0.3.0 huggingface-hub-0.11.1 multiprocess-0.70.14 responses-0.18.0 urllib3-1.25.11 xxhash-3.1.0\n",
            "Looking in indexes: https://pypi.org/simple, https://us-python.pkg.dev/colab-wheels/public/simple/\n",
            "Collecting transformers\n",
            "  Downloading transformers-4.25.1-py3-none-any.whl (5.8 MB)\n",
            "\u001b[K     |████████████████████████████████| 5.8 MB 14.5 MB/s \n",
            "\u001b[?25hRequirement already satisfied: requests in /usr/local/lib/python3.8/dist-packages (from transformers) (2.23.0)\n",
            "Requirement already satisfied: pyyaml>=5.1 in /usr/local/lib/python3.8/dist-packages (from transformers) (6.0)\n",
            "Requirement already satisfied: tqdm>=4.27 in /usr/local/lib/python3.8/dist-packages (from transformers) (4.64.1)\n",
            "Requirement already satisfied: packaging>=20.0 in /usr/local/lib/python3.8/dist-packages (from transformers) (21.3)\n",
            "Collecting tokenizers!=0.11.3,<0.14,>=0.11.1\n",
            "  Downloading tokenizers-0.13.2-cp38-cp38-manylinux_2_17_x86_64.manylinux2014_x86_64.whl (7.6 MB)\n",
            "\u001b[K     |████████████████████████████████| 7.6 MB 51.4 MB/s \n",
            "\u001b[?25hRequirement already satisfied: huggingface-hub<1.0,>=0.10.0 in /usr/local/lib/python3.8/dist-packages (from transformers) (0.11.1)\n",
            "Requirement already satisfied: numpy>=1.17 in /usr/local/lib/python3.8/dist-packages (from transformers) (1.21.6)\n",
            "Requirement already satisfied: filelock in /usr/local/lib/python3.8/dist-packages (from transformers) (3.8.0)\n",
            "Requirement already satisfied: regex!=2019.12.17 in /usr/local/lib/python3.8/dist-packages (from transformers) (2022.6.2)\n",
            "Requirement already satisfied: typing-extensions>=3.7.4.3 in /usr/local/lib/python3.8/dist-packages (from huggingface-hub<1.0,>=0.10.0->transformers) (4.4.0)\n",
            "Requirement already satisfied: pyparsing!=3.0.5,>=2.0.2 in /usr/local/lib/python3.8/dist-packages (from packaging>=20.0->transformers) (3.0.9)\n",
            "Requirement already satisfied: certifi>=2017.4.17 in /usr/local/lib/python3.8/dist-packages (from requests->transformers) (2022.9.24)\n",
            "Requirement already satisfied: idna<3,>=2.5 in /usr/local/lib/python3.8/dist-packages (from requests->transformers) (2.10)\n",
            "Requirement already satisfied: urllib3!=1.25.0,!=1.25.1,<1.26,>=1.21.1 in /usr/local/lib/python3.8/dist-packages (from requests->transformers) (1.25.11)\n",
            "Requirement already satisfied: chardet<4,>=3.0.2 in /usr/local/lib/python3.8/dist-packages (from requests->transformers) (3.0.4)\n",
            "Installing collected packages: tokenizers, transformers\n",
            "Successfully installed tokenizers-0.13.2 transformers-4.25.1\n"
          ]
        }
      ],
      "source": [
        "!pip install kaggle # kaggle library for downloading the data\n",
        "!pip install evaluate # evaluate library for testing the model\n",
        "!pip install transformers # hugging face transformers libraries"
      ]
    },
    {
      "cell_type": "markdown",
      "metadata": {
        "id": "Zg8yINHQTanM"
      },
      "source": [
        "### Download the data from Kaggle"
      ]
    },
    {
      "cell_type": "code",
      "execution_count": null,
      "metadata": {
        "colab": {
          "base_uri": "https://localhost:8080/"
        },
        "id": "UcYhsiGWd48t",
        "outputId": "abe985cc-3bb3-4111-c9a7-180dde52b467"
      },
      "outputs": [
        {
          "name": "stdout",
          "output_type": "stream",
          "text": [
            "Downloading pfam-seed-random-split.zip to /content\n",
            "100% 491M/493M [00:15<00:00, 42.1MB/s]\n",
            "100% 493M/493M [00:16<00:00, 32.2MB/s]\n",
            "Archive:  pfam-seed-random-split.zip\n",
            "  inflating: random_split/dev/data-00000-of-00010  \n",
            "  inflating: random_split/dev/data-00001-of-00010  \n",
            "  inflating: random_split/dev/data-00002-of-00010  \n",
            "  inflating: random_split/dev/data-00003-of-00010  \n",
            "  inflating: random_split/dev/data-00004-of-00010  \n",
            "  inflating: random_split/dev/data-00005-of-00010  \n",
            "  inflating: random_split/dev/data-00006-of-00010  \n",
            "  inflating: random_split/dev/data-00007-of-00010  \n",
            "  inflating: random_split/dev/data-00008-of-00010  \n",
            "  inflating: random_split/dev/data-00009-of-00010  \n",
            "  inflating: random_split/random_split/dev/data-00000-of-00010  \n",
            "  inflating: random_split/random_split/dev/data-00001-of-00010  \n",
            "  inflating: random_split/random_split/dev/data-00002-of-00010  \n",
            "  inflating: random_split/random_split/dev/data-00003-of-00010  \n",
            "  inflating: random_split/random_split/dev/data-00004-of-00010  \n",
            "  inflating: random_split/random_split/dev/data-00005-of-00010  \n",
            "  inflating: random_split/random_split/dev/data-00006-of-00010  \n",
            "  inflating: random_split/random_split/dev/data-00007-of-00010  \n",
            "  inflating: random_split/random_split/dev/data-00008-of-00010  \n",
            "  inflating: random_split/random_split/dev/data-00009-of-00010  \n",
            "  inflating: random_split/random_split/test/data-00000-of-00010  \n",
            "  inflating: random_split/random_split/test/data-00001-of-00010  \n",
            "  inflating: random_split/random_split/test/data-00002-of-00010  \n",
            "  inflating: random_split/random_split/test/data-00003-of-00010  \n",
            "  inflating: random_split/random_split/test/data-00004-of-00010  \n",
            "  inflating: random_split/random_split/test/data-00005-of-00010  \n",
            "  inflating: random_split/random_split/test/data-00006-of-00010  \n",
            "  inflating: random_split/random_split/test/data-00007-of-00010  \n",
            "  inflating: random_split/random_split/test/data-00008-of-00010  \n",
            "  inflating: random_split/random_split/test/data-00009-of-00010  \n",
            "  inflating: random_split/random_split/train/data-00000-of-00080  \n",
            "  inflating: random_split/random_split/train/data-00001-of-00080  \n",
            "  inflating: random_split/random_split/train/data-00002-of-00080  \n",
            "  inflating: random_split/random_split/train/data-00003-of-00080  \n",
            "  inflating: random_split/random_split/train/data-00004-of-00080  \n",
            "  inflating: random_split/random_split/train/data-00005-of-00080  \n",
            "  inflating: random_split/random_split/train/data-00006-of-00080  \n",
            "  inflating: random_split/random_split/train/data-00007-of-00080  \n",
            "  inflating: random_split/random_split/train/data-00008-of-00080  \n",
            "  inflating: random_split/random_split/train/data-00009-of-00080  \n",
            "  inflating: random_split/random_split/train/data-00010-of-00080  \n",
            "  inflating: random_split/random_split/train/data-00011-of-00080  \n",
            "  inflating: random_split/random_split/train/data-00012-of-00080  \n",
            "  inflating: random_split/random_split/train/data-00013-of-00080  \n",
            "  inflating: random_split/random_split/train/data-00014-of-00080  \n",
            "  inflating: random_split/random_split/train/data-00015-of-00080  \n",
            "  inflating: random_split/random_split/train/data-00016-of-00080  \n",
            "  inflating: random_split/random_split/train/data-00017-of-00080  \n",
            "  inflating: random_split/random_split/train/data-00018-of-00080  \n",
            "  inflating: random_split/random_split/train/data-00019-of-00080  \n",
            "  inflating: random_split/random_split/train/data-00020-of-00080  \n",
            "  inflating: random_split/random_split/train/data-00021-of-00080  \n",
            "  inflating: random_split/random_split/train/data-00022-of-00080  \n",
            "  inflating: random_split/random_split/train/data-00023-of-00080  \n",
            "  inflating: random_split/random_split/train/data-00024-of-00080  \n",
            "  inflating: random_split/random_split/train/data-00025-of-00080  \n",
            "  inflating: random_split/random_split/train/data-00026-of-00080  \n",
            "  inflating: random_split/random_split/train/data-00027-of-00080  \n",
            "  inflating: random_split/random_split/train/data-00028-of-00080  \n",
            "  inflating: random_split/random_split/train/data-00029-of-00080  \n",
            "  inflating: random_split/random_split/train/data-00030-of-00080  \n",
            "  inflating: random_split/random_split/train/data-00031-of-00080  \n",
            "  inflating: random_split/random_split/train/data-00032-of-00080  \n",
            "  inflating: random_split/random_split/train/data-00033-of-00080  \n",
            "  inflating: random_split/random_split/train/data-00034-of-00080  \n",
            "  inflating: random_split/random_split/train/data-00035-of-00080  \n",
            "  inflating: random_split/random_split/train/data-00036-of-00080  \n",
            "  inflating: random_split/random_split/train/data-00037-of-00080  \n",
            "  inflating: random_split/random_split/train/data-00038-of-00080  \n",
            "  inflating: random_split/random_split/train/data-00039-of-00080  \n",
            "  inflating: random_split/random_split/train/data-00040-of-00080  \n",
            "  inflating: random_split/random_split/train/data-00041-of-00080  \n",
            "  inflating: random_split/random_split/train/data-00042-of-00080  \n",
            "  inflating: random_split/random_split/train/data-00043-of-00080  \n",
            "  inflating: random_split/random_split/train/data-00044-of-00080  \n",
            "  inflating: random_split/random_split/train/data-00045-of-00080  \n",
            "  inflating: random_split/random_split/train/data-00046-of-00080  \n",
            "  inflating: random_split/random_split/train/data-00047-of-00080  \n",
            "  inflating: random_split/random_split/train/data-00048-of-00080  \n",
            "  inflating: random_split/random_split/train/data-00049-of-00080  \n",
            "  inflating: random_split/random_split/train/data-00050-of-00080  \n",
            "  inflating: random_split/random_split/train/data-00051-of-00080  \n",
            "  inflating: random_split/random_split/train/data-00052-of-00080  \n",
            "  inflating: random_split/random_split/train/data-00053-of-00080  \n",
            "  inflating: random_split/random_split/train/data-00054-of-00080  \n",
            "  inflating: random_split/random_split/train/data-00055-of-00080  \n",
            "  inflating: random_split/random_split/train/data-00056-of-00080  \n",
            "  inflating: random_split/random_split/train/data-00057-of-00080  \n",
            "  inflating: random_split/random_split/train/data-00058-of-00080  \n",
            "  inflating: random_split/random_split/train/data-00059-of-00080  \n",
            "  inflating: random_split/random_split/train/data-00060-of-00080  \n",
            "  inflating: random_split/random_split/train/data-00061-of-00080  \n",
            "  inflating: random_split/random_split/train/data-00062-of-00080  \n",
            "  inflating: random_split/random_split/train/data-00063-of-00080  \n",
            "  inflating: random_split/random_split/train/data-00064-of-00080  \n",
            "  inflating: random_split/random_split/train/data-00065-of-00080  \n",
            "  inflating: random_split/random_split/train/data-00066-of-00080  \n",
            "  inflating: random_split/random_split/train/data-00067-of-00080  \n",
            "  inflating: random_split/random_split/train/data-00068-of-00080  \n",
            "  inflating: random_split/random_split/train/data-00069-of-00080  \n",
            "  inflating: random_split/random_split/train/data-00070-of-00080  \n",
            "  inflating: random_split/random_split/train/data-00071-of-00080  \n",
            "  inflating: random_split/random_split/train/data-00072-of-00080  \n",
            "  inflating: random_split/random_split/train/data-00073-of-00080  \n",
            "  inflating: random_split/random_split/train/data-00074-of-00080  \n",
            "  inflating: random_split/random_split/train/data-00075-of-00080  \n",
            "  inflating: random_split/random_split/train/data-00076-of-00080  \n",
            "  inflating: random_split/random_split/train/data-00077-of-00080  \n",
            "  inflating: random_split/random_split/train/data-00078-of-00080  \n",
            "  inflating: random_split/random_split/train/data-00079-of-00080  \n",
            "  inflating: random_split/test/data-00000-of-00010  \n",
            "  inflating: random_split/test/data-00001-of-00010  \n",
            "  inflating: random_split/test/data-00002-of-00010  \n",
            "  inflating: random_split/test/data-00003-of-00010  \n",
            "  inflating: random_split/test/data-00004-of-00010  \n",
            "  inflating: random_split/test/data-00005-of-00010  \n",
            "  inflating: random_split/test/data-00006-of-00010  \n",
            "  inflating: random_split/test/data-00007-of-00010  \n",
            "  inflating: random_split/test/data-00008-of-00010  \n",
            "  inflating: random_split/test/data-00009-of-00010  \n",
            "  inflating: random_split/train/data-00000-of-00080  \n",
            "  inflating: random_split/train/data-00001-of-00080  \n",
            "  inflating: random_split/train/data-00002-of-00080  \n",
            "  inflating: random_split/train/data-00003-of-00080  \n",
            "  inflating: random_split/train/data-00004-of-00080  \n",
            "  inflating: random_split/train/data-00005-of-00080  \n",
            "  inflating: random_split/train/data-00006-of-00080  \n",
            "  inflating: random_split/train/data-00007-of-00080  \n",
            "  inflating: random_split/train/data-00008-of-00080  \n",
            "  inflating: random_split/train/data-00009-of-00080  \n",
            "  inflating: random_split/train/data-00010-of-00080  \n",
            "  inflating: random_split/train/data-00011-of-00080  \n",
            "  inflating: random_split/train/data-00012-of-00080  \n",
            "  inflating: random_split/train/data-00013-of-00080  \n",
            "  inflating: random_split/train/data-00014-of-00080  \n",
            "  inflating: random_split/train/data-00015-of-00080  \n",
            "  inflating: random_split/train/data-00016-of-00080  \n",
            "  inflating: random_split/train/data-00017-of-00080  \n",
            "  inflating: random_split/train/data-00018-of-00080  \n",
            "  inflating: random_split/train/data-00019-of-00080  \n",
            "  inflating: random_split/train/data-00020-of-00080  \n",
            "  inflating: random_split/train/data-00021-of-00080  \n",
            "  inflating: random_split/train/data-00022-of-00080  \n",
            "  inflating: random_split/train/data-00023-of-00080  \n",
            "  inflating: random_split/train/data-00024-of-00080  \n",
            "  inflating: random_split/train/data-00025-of-00080  \n",
            "  inflating: random_split/train/data-00026-of-00080  \n",
            "  inflating: random_split/train/data-00027-of-00080  \n",
            "  inflating: random_split/train/data-00028-of-00080  \n",
            "  inflating: random_split/train/data-00029-of-00080  \n",
            "  inflating: random_split/train/data-00030-of-00080  \n",
            "  inflating: random_split/train/data-00031-of-00080  \n",
            "  inflating: random_split/train/data-00032-of-00080  \n",
            "  inflating: random_split/train/data-00033-of-00080  \n",
            "  inflating: random_split/train/data-00034-of-00080  \n",
            "  inflating: random_split/train/data-00035-of-00080  \n",
            "  inflating: random_split/train/data-00036-of-00080  \n",
            "  inflating: random_split/train/data-00037-of-00080  \n",
            "  inflating: random_split/train/data-00038-of-00080  \n",
            "  inflating: random_split/train/data-00039-of-00080  \n",
            "  inflating: random_split/train/data-00040-of-00080  \n",
            "  inflating: random_split/train/data-00041-of-00080  \n",
            "  inflating: random_split/train/data-00042-of-00080  \n",
            "  inflating: random_split/train/data-00043-of-00080  \n",
            "  inflating: random_split/train/data-00044-of-00080  \n",
            "  inflating: random_split/train/data-00045-of-00080  \n",
            "  inflating: random_split/train/data-00046-of-00080  \n",
            "  inflating: random_split/train/data-00047-of-00080  \n",
            "  inflating: random_split/train/data-00048-of-00080  \n",
            "  inflating: random_split/train/data-00049-of-00080  \n",
            "  inflating: random_split/train/data-00050-of-00080  \n",
            "  inflating: random_split/train/data-00051-of-00080  \n",
            "  inflating: random_split/train/data-00052-of-00080  \n",
            "  inflating: random_split/train/data-00053-of-00080  \n",
            "  inflating: random_split/train/data-00054-of-00080  \n",
            "  inflating: random_split/train/data-00055-of-00080  \n",
            "  inflating: random_split/train/data-00056-of-00080  \n",
            "  inflating: random_split/train/data-00057-of-00080  \n",
            "  inflating: random_split/train/data-00058-of-00080  \n",
            "  inflating: random_split/train/data-00059-of-00080  \n",
            "  inflating: random_split/train/data-00060-of-00080  \n",
            "  inflating: random_split/train/data-00061-of-00080  \n",
            "  inflating: random_split/train/data-00062-of-00080  \n",
            "  inflating: random_split/train/data-00063-of-00080  \n",
            "  inflating: random_split/train/data-00064-of-00080  \n",
            "  inflating: random_split/train/data-00065-of-00080  \n",
            "  inflating: random_split/train/data-00066-of-00080  \n",
            "  inflating: random_split/train/data-00067-of-00080  \n",
            "  inflating: random_split/train/data-00068-of-00080  \n",
            "  inflating: random_split/train/data-00069-of-00080  \n",
            "  inflating: random_split/train/data-00070-of-00080  \n",
            "  inflating: random_split/train/data-00071-of-00080  \n",
            "  inflating: random_split/train/data-00072-of-00080  \n",
            "  inflating: random_split/train/data-00073-of-00080  \n",
            "  inflating: random_split/train/data-00074-of-00080  \n",
            "  inflating: random_split/train/data-00075-of-00080  \n",
            "  inflating: random_split/train/data-00076-of-00080  \n",
            "  inflating: random_split/train/data-00077-of-00080  \n",
            "  inflating: random_split/train/data-00078-of-00080  \n",
            "  inflating: random_split/train/data-00079-of-00080  \n"
          ]
        }
      ],
      "source": [
        "import json\n",
        "!mkdir ~/.kaggle # create a directory for kaggle\n",
        "!touch ~/.kaggle/kaggle.json # create a json file for kaggle\n",
        "\n",
        "api_token = {\"username\":\"\",\"key\":\"\"} # your kaggle api token which you can get from your kaggle account\n",
        "\n",
        "with open('/root/.kaggle/kaggle.json', 'w') as file:\n",
        "    json.dump(api_token, file)\n",
        "\n",
        "!chmod 600 ~/.kaggle/kaggle.json # set the permission of the json file\n",
        "!kaggle datasets download -d googleai/pfam-seed-random-split # download the dataset\n",
        "!unzip pfam-seed-random-split.zip # unzip the dataset"
      ]
    },
    {
      "cell_type": "markdown",
      "metadata": {
        "id": "pBmPfBZnTdrb"
      },
      "source": [
        "### Import the libraries"
      ]
    },
    {
      "cell_type": "code",
      "execution_count": null,
      "metadata": {
        "id": "zYoh_DrS14eO"
      },
      "outputs": [],
      "source": [
        "import os\n",
        "import torch\n",
        "import evaluate\n",
        "import pandas as pd\n",
        "import numpy as np\n",
        "import seaborn as sns\n",
        "import matplotlib.pyplot as plt\n",
        "from datasets import load_metric\n",
        "from sklearn.model_selection import train_test_split\n",
        "from sklearn.preprocessing import LabelEncoder\n",
        "from transformers import AutoTokenizer, AutoModelForSequenceClassification, Trainer, TrainingArguments"
      ]
    },
    {
      "cell_type": "markdown",
      "metadata": {
        "id": "jclWs2B_UeCu"
      },
      "source": [
        "### Defining the data helper functions"
      ]
    },
    {
      "cell_type": "code",
      "execution_count": null,
      "metadata": {
        "id": "PfrGOaWMMUpi"
      },
      "outputs": [],
      "source": [
        "def read_data(name_sub_folder):\n",
        "  '''This function is used to read the data from the random_split folder'''\n",
        "  full_data = []\n",
        "  for f in os.listdir(os.path.join('random_split', name_sub_folder)):\n",
        "    data = pd.read_csv(os.path.join('random_split', name_sub_folder, f))\n",
        "    full_data.append(data)\n",
        "  return pd.concat(full_data)  "
      ]
    },
    {
      "cell_type": "code",
      "execution_count": null,
      "metadata": {
        "id": "Sm-YFdNsMu_q"
      },
      "outputs": [],
      "source": [
        "def return_selected_classes(dataset, classes):\n",
        "  '''This function is used to return the data from the dataset based on the selected classes'''\n",
        "  return dataset.loc[dataset['family_id'].isin(classes)].reset_index()"
      ]
    },
    {
      "cell_type": "code",
      "execution_count": null,
      "metadata": {
        "id": "_ai1aeRTT6-8"
      },
      "outputs": [],
      "source": [
        "class SeqDataset(torch.utils.data.Dataset):\n",
        "    '''This class is used to create a dataset for the model'''\n",
        "    def __init__(self, encodings, labels):\n",
        "        self.encodings = encodings\n",
        "        self.labels = labels\n",
        "\n",
        "    def __getitem__(self, idx):\n",
        "        item = {key: torch.tensor(val[idx]) for key, val in self.encodings.items()}\n",
        "        item['labels'] = torch.tensor(self.labels[idx])\n",
        "        return item\n",
        "\n",
        "    def __len__(self):\n",
        "        return len(self.labels)"
      ]
    },
    {
      "cell_type": "markdown",
      "metadata": {
        "id": "AHF7We7sTnaE"
      },
      "source": [
        "### Read and process the data"
      ]
    },
    {
      "cell_type": "code",
      "execution_count": null,
      "metadata": {
        "id": "qDIbvDfRKq7y"
      },
      "outputs": [],
      "source": [
        "# read the data\n",
        "dataset_train = read_data(\"train\")\n",
        "dataset_dev = read_data(\"dev\")\n",
        "dataset_test = read_data(\"test\")"
      ]
    },
    {
      "cell_type": "code",
      "execution_count": null,
      "metadata": {
        "colab": {
          "base_uri": "https://localhost:8080/"
        },
        "id": "yvYzsp0x8WHw",
        "outputId": "e99b86f1-1a09-4ed5-a40c-514536458de5"
      },
      "outputs": [
        {
          "data": {
            "text/plain": [
              "['LRR_1',\n",
              " 'Acetyltransf_7',\n",
              " 'His_kinase',\n",
              " 'Bac_transf',\n",
              " 'Lum_binding',\n",
              " 'DNA_binding_1',\n",
              " 'Chromate_transp',\n",
              " 'Lipase_GDSL_2',\n",
              " 'DnaJ_CXXCXGXG',\n",
              " 'SRP54_N']"
            ]
          },
          "execution_count": 10,
          "metadata": {},
          "output_type": "execute_result"
        }
      ],
      "source": [
        "class_count_dic = dataset_train['family_id'].value_counts().to_dict() # class count dictionary contains the class name and the number of samples in the class\n",
        "classes = list(class_count_dic.keys())[1:11] # select the 10 classes from the dataset\n",
        "classes"
      ]
    },
    {
      "cell_type": "code",
      "execution_count": null,
      "metadata": {
        "id": "WoGgkSF2jTRY"
      },
      "outputs": [],
      "source": [
        "# here we retrieve the different datasets based on the selected classes\n",
        "dataset_train_small= return_from_dataset(dataset_train, classes) \n",
        "dataset_dev_small= return_from_dataset(dataset_dev, classes) \n",
        "dataset_test_small= return_from_dataset(dataset_test, classes) "
      ]
    },
    {
      "cell_type": "code",
      "execution_count": null,
      "metadata": {
        "colab": {
          "base_uri": "https://localhost:8080/",
          "height": 926
        },
        "id": "fKDNLY8elWn2",
        "outputId": "135042c9-aad2-444b-a180-a3a6158a2adb"
      },
      "outputs": [
        {
          "data": {
            "image/png": "[encoded data removed]",
            "text/plain": [
              "<Figure size 432x288 with 1 Axes>"
            ]
          },
          "metadata": {
            "needs_background": "light"
          },
          "output_type": "display_data"
        },
        {
          "data": {
            "image/png": "[encoded data removed]",
            "text/plain": [
              "<Figure size 432x288 with 1 Axes>"
            ]
          },
          "metadata": {
            "needs_background": "light"
          },
          "output_type": "display_data"
        },
        {
          "data": {
            "image/png": "[encoded data removed]",
            "text/plain": [
              "<Figure size 432x288 with 1 Axes>"
            ]
          },
          "metadata": {
            "needs_background": "light"
          },
          "output_type": "display_data"
        }
      ],
      "source": [
        "# here we look at the distribution of the classes in the train, dev and test set\n",
        "plt.title('Train_dist')\n",
        "sns.countplot(data = dataset_train_small, x = 'family_id')\n",
        "plt.tight_layout()\n",
        "plt.xticks(rotation=60)\n",
        "plt.show()\n",
        "\n",
        "plt.title('Val_dist')\n",
        "sns.countplot(data = dataset_dev_small, x = 'family_id')\n",
        "plt.xticks(rotation=60)\n",
        "plt.tight_layout()\n",
        "plt.show()\n",
        "\n",
        "plt.title('Test_dist')\n",
        "sns.countplot(data = dataset_test_small, x = 'family_id')\n",
        "plt.xticks(rotation=60)\n",
        "plt.tight_layout()\n",
        "plt.show()"
      ]
    },
    {
      "cell_type": "code",
      "execution_count": null,
      "metadata": {
        "colab": {
          "base_uri": "https://localhost:8080/"
        },
        "id": "102d4qRhAtcM",
        "outputId": "7fd340d5-22fc-4507-92ea-fe8294a79c49"
      },
      "outputs": [
        {
          "data": {
            "text/plain": [
              "217"
            ]
          },
          "execution_count": 23,
          "metadata": {},
          "output_type": "execute_result"
        }
      ],
      "source": [
        "# here we calculate the length of the sequences in the train set\n",
        "sequence_len_df = dataset_train_small['sequence'].apply(len)\n",
        "max_len = int(np.median(np.quantile(sequence_len_df, 0.99))) # we set max_len to be the percentile 99th so we don't have to zero-pad all sequences to be length of a sequence that the longest \n",
        "max_len"
      ]
    },
    {
      "cell_type": "code",
      "execution_count": null,
      "metadata": {
        "id": "NE-tAG6UCrAm"
      },
      "outputs": [],
      "source": [
        "# label encoding for converting classes to integers\n",
        "le = LabelEncoder()\n",
        "y_train_int = le.fit_transform(dataset_train_small['family_id'])\n",
        "y_dev_int = le.transform(dataset_dev_small['family_id'])\n",
        "y_test_int = le.transform(dataset_test_small['family_id'])"
      ]
    },
    {
      "cell_type": "code",
      "execution_count": null,
      "metadata": {
        "colab": {
          "base_uri": "https://localhost:8080/"
        },
        "id": "pO4I3ARYKq73",
        "outputId": "eb12b146-1e9a-40ea-9032-0b06071f3696"
      },
      "outputs": [
        {
          "name": "stderr",
          "output_type": "stream",
          "text": [
            "loading file vocab.txt from cache at /root/.cache/huggingface/hub/models--facebook--esm2_t6_8M_UR50D/snapshots/97bbd7b3dc8acb222027cde0d8e911f3de78d5b8/vocab.txt\n",
            "loading file added_tokens.json from cache at None\n",
            "loading file special_tokens_map.json from cache at /root/.cache/huggingface/hub/models--facebook--esm2_t6_8M_UR50D/snapshots/97bbd7b3dc8acb222027cde0d8e911f3de78d5b8/special_tokens_map.json\n",
            "loading file tokenizer_config.json from cache at /root/.cache/huggingface/hub/models--facebook--esm2_t6_8M_UR50D/snapshots/97bbd7b3dc8acb222027cde0d8e911f3de78d5b8/tokenizer_config.json\n"
          ]
        }
      ],
      "source": [
        "tokenizer = AutoTokenizer.from_pretrained(\"facebook/esm2_t6_8M_UR50D\", do_lower_case=False, model_max_length= max_len)\n",
        "\n",
        "train_encodings = tokenizer(dataset_train_small['sequence'].to_list(), truncation=True, padding=True, return_tensors=\"pt\")\n",
        "dev_encodings = tokenizer(dataset_dev_small['sequence'].to_list(), truncation=True, padding=True, return_tensors=\"pt\")\n",
        "test_encodings = tokenizer(dataset_test_small['sequence'].to_list(), truncation=True, padding=True, return_tensors=\"pt\")"
      ]
    },
    {
      "cell_type": "code",
      "execution_count": null,
      "metadata": {
        "colab": {
          "base_uri": "https://localhost:8080/"
        },
        "id": "-tnACDU8Kq73",
        "outputId": "d4e95b29-3779-485f-a137-63ae56cdde27"
      },
      "outputs": [
        {
          "data": {
            "text/plain": [
              "torch.Size([14514, 217])"
            ]
          },
          "execution_count": 27,
          "metadata": {},
          "output_type": "execute_result"
        }
      ],
      "source": [
        "train_encodings['input_ids'].shape"
      ]
    },
    {
      "cell_type": "code",
      "execution_count": null,
      "metadata": {
        "id": "wh-o7xyyKq73"
      },
      "outputs": [],
      "source": [
        "train_dataset = SeqDataset(train_encodings, y_train_int)\n",
        "dev_dataset = SeqDataset(dev_encodings, y_dev_int)\n",
        "test_dataset = SeqDataset(test_encodings, y_test_int)"
      ]
    },
    {
      "cell_type": "code",
      "execution_count": null,
      "metadata": {
        "colab": {
          "base_uri": "https://localhost:8080/"
        },
        "id": "wQDameLVUG9k",
        "outputId": "a42c42b9-3dfa-4f67-ab21-f15caa97a7e5"
      },
      "outputs": [
        {
          "name": "stderr",
          "output_type": "stream",
          "text": [
            "loading configuration file config.json from cache at /root/.cache/huggingface/hub/models--facebook--esm2_t6_8M_UR50D/snapshots/97bbd7b3dc8acb222027cde0d8e911f3de78d5b8/config.json\n",
            "Model config EsmConfig {\n",
            "  \"_name_or_path\": \"facebook/esm2_t6_8M_UR50D\",\n",
            "  \"architectures\": [\n",
            "    \"EsmForMaskedLM\"\n",
            "  ],\n",
            "  \"attention_probs_dropout_prob\": 0.0,\n",
            "  \"classifier_dropout\": null,\n",
            "  \"emb_layer_norm_before\": false,\n",
            "  \"esmfold_config\": null,\n",
            "  \"hidden_act\": \"gelu\",\n",
            "  \"hidden_dropout_prob\": 0.0,\n",
            "  \"hidden_size\": 320,\n",
            "  \"id2label\": {\n",
            "    \"0\": \"LABEL_0\",\n",
            "    \"1\": \"LABEL_1\",\n",
            "    \"2\": \"LABEL_2\",\n",
            "    \"3\": \"LABEL_3\",\n",
            "    \"4\": \"LABEL_4\",\n",
            "    \"5\": \"LABEL_5\",\n",
            "    \"6\": \"LABEL_6\",\n",
            "    \"7\": \"LABEL_7\",\n",
            "    \"8\": \"LABEL_8\",\n",
            "    \"9\": \"LABEL_9\"\n",
            "  },\n",
            "  \"initializer_range\": 0.02,\n",
            "  \"intermediate_size\": 1280,\n",
            "  \"is_folding_model\": false,\n",
            "  \"label2id\": {\n",
            "    \"LABEL_0\": 0,\n",
            "    \"LABEL_1\": 1,\n",
            "    \"LABEL_2\": 2,\n",
            "    \"LABEL_3\": 3,\n",
            "    \"LABEL_4\": 4,\n",
            "    \"LABEL_5\": 5,\n",
            "    \"LABEL_6\": 6,\n",
            "    \"LABEL_7\": 7,\n",
            "    \"LABEL_8\": 8,\n",
            "    \"LABEL_9\": 9\n",
            "  },\n",
            "  \"layer_norm_eps\": 1e-05,\n",
            "  \"mask_token_id\": 32,\n",
            "  \"max_position_embeddings\": 1026,\n",
            "  \"model_type\": \"esm\",\n",
            "  \"num_attention_heads\": 20,\n",
            "  \"num_hidden_layers\": 6,\n",
            "  \"pad_token_id\": 1,\n",
            "  \"position_embedding_type\": \"rotary\",\n",
            "  \"token_dropout\": true,\n",
            "  \"torch_dtype\": \"float32\",\n",
            "  \"transformers_version\": \"4.25.1\",\n",
            "  \"use_cache\": true,\n",
            "  \"vocab_list\": null,\n",
            "  \"vocab_size\": 33\n",
            "}\n",
            "\n",
            "loading weights file pytorch_model.bin from cache at /root/.cache/huggingface/hub/models--facebook--esm2_t6_8M_UR50D/snapshots/97bbd7b3dc8acb222027cde0d8e911f3de78d5b8/pytorch_model.bin\n",
            "Some weights of the model checkpoint at facebook/esm2_t6_8M_UR50D were not used when initializing EsmForSequenceClassification: ['lm_head.layer_norm.weight', 'esm.contact_head.regression.weight', 'lm_head.decoder.weight', 'lm_head.dense.bias', 'lm_head.layer_norm.bias', 'lm_head.dense.weight', 'lm_head.bias', 'esm.contact_head.regression.bias']\n",
            "- This IS expected if you are initializing EsmForSequenceClassification from the checkpoint of a model trained on another task or with another architecture (e.g. initializing a BertForSequenceClassification model from a BertForPreTraining model).\n",
            "- This IS NOT expected if you are initializing EsmForSequenceClassification from the checkpoint of a model that you expect to be exactly identical (initializing a BertForSequenceClassification model from a BertForSequenceClassification model).\n",
            "Some weights of EsmForSequenceClassification were not initialized from the model checkpoint at facebook/esm2_t6_8M_UR50D and are newly initialized: ['classifier.out_proj.weight', 'classifier.out_proj.bias', 'classifier.dense.weight', 'classifier.dense.bias']\n",
            "You should probably TRAIN this model on a down-stream task to be able to use it for predictions and inference.\n"
          ]
        }
      ],
      "source": [
        "model = AutoModelForSequenceClassification.from_pretrained(\"facebook/esm2_t6_8M_UR50D\", num_labels= len(classes))"
      ]
    },
    {
      "cell_type": "code",
      "execution_count": null,
      "metadata": {
        "id": "4KHixle94R9A"
      },
      "outputs": [],
      "source": [
        "def compute_acc(eval_pred):\n",
        "    '''This function is used to compute the accuracy of the model'''\n",
        "    predictions, labels = eval_pred\n",
        "    predictions = np.argmax(predictions, axis=1)\n",
        "    return metric.compute(predictions=predictions, references=labels)"
      ]
    },
    {
      "cell_type": "code",
      "execution_count": null,
      "metadata": {
        "id": "Utrq8SvxKq75"
      },
      "outputs": [],
      "source": [
        "eps = 1\n",
        "bs = 16\n",
        "steps = len(train_dataset) // bs \n",
        "metric = evaluate.load('accuracy')"
      ]
    },
    {
      "cell_type": "code",
      "execution_count": null,
      "metadata": {
        "colab": {
          "base_uri": "https://localhost:8080/"
        },
        "id": "SUU4AvrYKq75",
        "outputId": "4ad55511-9bf3-4beb-9b33-0f160e1858a3"
      },
      "outputs": [
        {
          "name": "stderr",
          "output_type": "stream",
          "text": [
            "PyTorch: setting up devices\n",
            "The default value for the training argument `--report_to` will change in v5 (from all installed integrations to none). In v5, you will need to use `--report_to all` to get the same behavior as now. You should start updating your code and make this info disappear :-).\n"
          ]
        }
      ],
      "source": [
        "training_args = TrainingArguments(\n",
        "    output_dir='./results/training_results',            # output directory\n",
        "    num_train_epochs= eps,                              # total number of training epochs\n",
        "    per_device_train_batch_size= bs,                    # batch size per device during training\n",
        "    per_device_eval_batch_size= bs,                     # batch size for evaluation\n",
        "    warmup_steps= 500,                                  # number of warmup steps for learning rate scheduler\n",
        "    weight_decay= 0.01,                                 # strength of weight decay\n",
        "    logging_dir= './results/training_logs',             # directory for storing logs\n",
        "    logging_steps= steps,                               \n",
        "    load_best_model_at_end= True,                       # load the best model at the end of training\n",
        "    evaluation_strategy= 'epoch',    \n",
        "    save_strategy = 'epoch'\n",
        ")\n",
        "\n",
        "trainer = Trainer(\n",
        "    model=model,                                        # the instantiated 🤗 Transformers model to be trained\n",
        "    args=training_args,                                 # training arguments, defined above\n",
        "    train_dataset=train_dataset,                        # training dataset\n",
        "    eval_dataset=dev_dataset,                           # evaluation dataset\n",
        "    compute_metrics = compute_acc,                      \n",
        "    tokenizer=tokenizer\n",
        ")"
      ]
    },
    {
      "cell_type": "code",
      "execution_count": null,
      "metadata": {
        "colab": {
          "base_uri": "https://localhost:8080/",
          "height": 578
        },
        "id": "JfAmRB8lKq75",
        "outputId": "856345f9-02cc-4a7c-dc89-4575cf6ee4d0"
      },
      "outputs": [
        {
          "name": "stderr",
          "output_type": "stream",
          "text": [
            "***** Running training *****\n",
            "  Num examples = 14514\n",
            "  Num Epochs = 1\n",
            "  Instantaneous batch size per device = 16\n",
            "  Total train batch size (w. parallel, distributed & accumulation) = 16\n",
            "  Gradient Accumulation steps = 1\n",
            "  Total optimization steps = 908\n",
            "  Number of trainable parameters = 7843210\n",
            "<ipython-input-8-8c65bbd11e6c>:7: UserWarning: To copy construct from a tensor, it is recommended to use sourceTensor.clone().detach() or sourceTensor.clone().detach().requires_grad_(True), rather than torch.tensor(sourceTensor).\n",
            "  item = {key: torch.tensor(val[idx]) for key, val in self.encodings.items()}\n"
          ]
        },
        {
          "data": {
            "text/html": [
              "\n",
              "    <div>\n",
              "      \n",
              "      <progress value='908' max='908' style='width:300px; height:20px; vertical-align: middle;'></progress>\n",
              "      [908/908 01:56, Epoch 1/1]\n",
              "    </div>\n",
              "    <table border=\"1\" class=\"dataframe\">\n",
              "  <thead>\n",
              " <tr style=\"text-align: left;\">\n",
              "      <th>Epoch</th>\n",
              "      <th>Training Loss</th>\n",
              "      <th>Validation Loss</th>\n",
              "      <th>Accuracy</th>\n",
              "    </tr>\n",
              "  </thead>\n",
              "  <tbody>\n",
              "    <tr>\n",
              "      <td>1</td>\n",
              "      <td>0.682100</td>\n",
              "      <td>0.040137</td>\n",
              "      <td>1.000000</td>\n",
              "    </tr>\n",
              "  </tbody>\n",
              "</table><p>"
            ],
            "text/plain": [
              "<IPython.core.display.HTML object>"
            ]
          },
          "metadata": {},
          "output_type": "display_data"
        },
        {
          "name": "stderr",
          "output_type": "stream",
          "text": [
            "***** Running Evaluation *****\n",
            "  Num examples = 1808\n",
            "  Batch size = 16\n",
            "Saving model checkpoint to ./results/training_results/checkpoint-908\n",
            "Configuration saved in ./results/training_results/checkpoint-908/config.json\n",
            "Model weights saved in ./results/training_results/checkpoint-908/pytorch_model.bin\n",
            "tokenizer config file saved in ./results/training_results/checkpoint-908/tokenizer_config.json\n",
            "Special tokens file saved in ./results/training_results/checkpoint-908/special_tokens_map.json\n",
            "\n",
            "\n",
            "Training completed. Do not forget to share your model on huggingface.co/models =)\n",
            "\n",
            "\n",
            "Loading best model from ./results/training_results/checkpoint-908 (score: 0.04013736546039581).\n"
          ]
        },
        {
          "data": {
            "text/plain": [
              "TrainOutput(global_step=908, training_loss=0.6814262919899257, metrics={'train_runtime': 117.0279, 'train_samples_per_second': 124.022, 'train_steps_per_second': 7.759, 'total_flos': 141811034997240.0, 'train_loss': 0.6814262919899257, 'epoch': 1.0})"
            ]
          },
          "execution_count": 32,
          "metadata": {},
          "output_type": "execute_result"
        }
      ],
      "source": [
        "# train function starts the training\n",
        "trainer.train()"
      ]
    },
    {
      "cell_type": "code",
      "execution_count": null,
      "metadata": {
        "colab": {
          "base_uri": "https://localhost:8080/",
          "height": 248
        },
        "id": "2njaOgbRKq76",
        "outputId": "a9015fc6-ab5c-450a-b135-3c377c09ad04"
      },
      "outputs": [
        {
          "name": "stderr",
          "output_type": "stream",
          "text": [
            "***** Running Evaluation *****\n",
            "  Num examples = 1808\n",
            "  Batch size = 16\n",
            "<ipython-input-8-8c65bbd11e6c>:7: UserWarning: To copy construct from a tensor, it is recommended to use sourceTensor.clone().detach() or sourceTensor.clone().detach().requires_grad_(True), rather than torch.tensor(sourceTensor).\n",
            "  item = {key: torch.tensor(val[idx]) for key, val in self.encodings.items()}\n"
          ]
        },
        {
          "data": {
            "text/html": [
              "\n",
              "    <div>\n",
              "      \n",
              "      <progress value='113' max='113' style='width:300px; height:20px; vertical-align: middle;'></progress>\n",
              "      [113/113 00:04]\n",
              "    </div>\n",
              "    "
            ],
            "text/plain": [
              "<IPython.core.display.HTML object>"
            ]
          },
          "metadata": {},
          "output_type": "display_data"
        },
        {
          "data": {
            "text/plain": [
              "{'eval_loss': 0.041542381048202515,\n",
              " 'eval_accuracy': 0.9994469026548672,\n",
              " 'eval_runtime': 4.6924,\n",
              " 'eval_samples_per_second': 385.305,\n",
              " 'eval_steps_per_second': 24.082,\n",
              " 'epoch': 1.0}"
            ]
          },
          "execution_count": 33,
          "metadata": {},
          "output_type": "execute_result"
        }
      ],
      "source": [
        "# evaluate function evaluates the model on the input dataset\n",
        "trainer.evaluate(test_dataset)"
      ]
    }
  ],
  "metadata": {
    "accelerator": "GPU",
    "colab": {
      "machine_shape": "hm",
      "provenance": [],
      "include_colab_link": true
    },
    "gpuClass": "premium",
    "kernelspec": {
      "display_name": "Python 3.9.12",
      "language": "python",
      "name": "python3"
    },
    "language_info": {
      "codemirror_mode": {
        "name": "ipython",
        "version": 3
      },
      "file_extension": ".py",
      "mimetype": "text/x-python",
      "name": "python",
      "nbconvert_exporter": "python",
      "pygments_lexer": "ipython3",
      "version": "3.9.12"
    },
    "vscode": {
      "interpreter": {
        "hash": "069dc74f122669cf023e6111733ea9795df27dd8bdab2931e801b7072f1c414f"
      }
    }
  },
  "nbformat": 4,
  "nbformat_minor": 0
}